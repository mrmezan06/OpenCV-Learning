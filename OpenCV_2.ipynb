{
 "cells": [
  {
   "cell_type": "code",
   "execution_count": 1,
   "metadata": {},
   "outputs": [],
   "source": [
    "import cv2\n",
    "import numpy as np"
   ]
  },
  {
   "cell_type": "code",
   "execution_count": 2,
   "metadata": {},
   "outputs": [],
   "source": [
    "input = cv2.imread('akash.jpg')\n",
    "gray = cv2.cvtColor(input, cv2.COLOR_BGR2GRAY)"
   ]
  },
  {
   "cell_type": "code",
   "execution_count": 3,
   "metadata": {},
   "outputs": [
    {
     "name": "stdout",
     "output_type": "stream",
     "text": [
      "[[[228 222 203]\n",
      "  [228 222 203]\n",
      "  [228 222 203]\n",
      "  ...\n",
      "  [233 226 209]\n",
      "  [233 226 209]\n",
      "  [233 226 209]]\n",
      "\n",
      " [[228 222 203]\n",
      "  [228 222 203]\n",
      "  [228 222 203]\n",
      "  ...\n",
      "  [233 226 209]\n",
      "  [233 226 209]\n",
      "  [233 226 209]]\n",
      "\n",
      " [[228 222 203]\n",
      "  [228 222 203]\n",
      "  [228 222 203]\n",
      "  ...\n",
      "  [233 226 209]\n",
      "  [233 226 209]\n",
      "  [233 226 209]]\n",
      "\n",
      " ...\n",
      "\n",
      " [[ 88 124 130]\n",
      "  [101 137 143]\n",
      "  [113 149 155]\n",
      "  ...\n",
      "  [ 76 108 107]\n",
      "  [ 80 112 111]\n",
      "  [ 82 114 113]]\n",
      "\n",
      " [[105 141 147]\n",
      "  [105 141 147]\n",
      "  [111 147 153]\n",
      "  ...\n",
      "  [ 76 108 107]\n",
      "  [ 83 115 114]\n",
      "  [ 87 119 118]]\n",
      "\n",
      " [[122 158 164]\n",
      "  [113 149 155]\n",
      "  [117 153 159]\n",
      "  ...\n",
      "  [ 77 109 108]\n",
      "  [ 85 117 116]\n",
      "  [ 90 122 121]]]\n"
     ]
    }
   ],
   "source": [
    "print(input)"
   ]
  },
  {
   "cell_type": "code",
   "execution_count": 4,
   "metadata": {},
   "outputs": [
    {
     "name": "stdout",
     "output_type": "stream",
     "text": [
      "[[217 217 217 ... 222 222 222]\n",
      " [217 217 217 ... 222 222 222]\n",
      " [217 217 217 ... 222 222 222]\n",
      " ...\n",
      " [122 135 147 ... 104 108 110]\n",
      " [139 139 145 ... 104 111 115]\n",
      " [156 147 151 ... 105 113 118]]\n"
     ]
    }
   ],
   "source": [
    "print(gray)"
   ]
  },
  {
   "cell_type": "code",
   "execution_count": 5,
   "metadata": {},
   "outputs": [],
   "source": [
    "cv2.imshow('RGB',input)\n",
    "#opencv store color as BGR format\n",
    "cv2.imshow('Gray', gray)\n",
    "cv2.waitKey(0)\n",
    "cv2.destroyAllWindows()"
   ]
  },
  {
   "cell_type": "code",
   "execution_count": 6,
   "metadata": {},
   "outputs": [],
   "source": [
    "# HSV format value - Hue -> (0-180) Saturation -> (0-255) Brightness/Intensity/Value -> (0-255)"
   ]
  },
  {
   "cell_type": "code",
   "execution_count": 10,
   "metadata": {},
   "outputs": [],
   "source": [
    "# Color filter Ring - Red -> (165 - 15) Green -> (45 - 75) Blue -> (90 - 120)"
   ]
  },
  {
   "cell_type": "code",
   "execution_count": 11,
   "metadata": {},
   "outputs": [
    {
     "name": "stdout",
     "output_type": "stream",
     "text": [
      "228 222 203\n"
     ]
    }
   ],
   "source": [
    "B,G,R = input[0, 0]\n",
    "print(B,G,R)"
   ]
  },
  {
   "cell_type": "code",
   "execution_count": 3,
   "metadata": {},
   "outputs": [],
   "source": [
    "hsv = cv2.cvtColor(input, cv2.COLOR_BGR2HSV)\n",
    "cv2.imshow('HSV',hsv)\n",
    "cv2.waitKey(0)\n",
    "cv2.destroyAllWindows()"
   ]
  },
  {
   "cell_type": "code",
   "execution_count": 4,
   "metadata": {},
   "outputs": [
    {
     "name": "stdout",
     "output_type": "stream",
     "text": [
      "[[[ 97  28 228]\n",
      "  [ 97  28 228]\n",
      "  [ 97  28 228]\n",
      "  ...\n",
      "  [ 99  26 233]\n",
      "  [ 99  26 233]\n",
      "  [ 99  26 233]]\n",
      "\n",
      " [[ 97  28 228]\n",
      "  [ 97  28 228]\n",
      "  [ 97  28 228]\n",
      "  ...\n",
      "  [ 99  26 233]\n",
      "  [ 99  26 233]\n",
      "  [ 99  26 233]]\n",
      "\n",
      " [[ 97  28 228]\n",
      "  [ 97  28 228]\n",
      "  [ 97  28 228]\n",
      "  ...\n",
      "  [ 99  26 233]\n",
      "  [ 99  26 233]\n",
      "  [ 99  26 233]]\n",
      "\n",
      " ...\n",
      "\n",
      " [[ 26  82 130]\n",
      "  [ 26  75 143]\n",
      "  [ 26  69 155]\n",
      "  ...\n",
      "  [ 31  76 108]\n",
      "  [ 31  73 112]\n",
      "  [ 31  72 114]]\n",
      "\n",
      " [[ 26  73 147]\n",
      "  [ 26  73 147]\n",
      "  [ 26  70 153]\n",
      "  ...\n",
      "  [ 31  76 108]\n",
      "  [ 31  71 115]\n",
      "  [ 31  69 119]]\n",
      "\n",
      " [[ 26  65 164]\n",
      "  [ 26  69 155]\n",
      "  [ 26  67 159]\n",
      "  ...\n",
      "  [ 31  75 109]\n",
      "  [ 31  70 117]\n",
      "  [ 31  67 122]]]\n"
     ]
    }
   ],
   "source": [
    "print(hsv)"
   ]
  },
  {
   "cell_type": "code",
   "execution_count": 5,
   "metadata": {},
   "outputs": [],
   "source": [
    "cv2.imshow('Hue Channel',hsv[:,:,0])\n",
    "cv2.imshow('Saturation Channel',hsv[:,:,1])\n",
    "cv2.imshow('Value Channel',hsv[:,:,2])\n",
    "cv2.waitKey(0)\n",
    "cv2.destroyAllWindows()"
   ]
  },
  {
   "cell_type": "code",
   "execution_count": 6,
   "metadata": {},
   "outputs": [],
   "source": [
    "B,G,R = cv2.split(input)\n",
    "cv2.imshow('BLue Channel',B)\n",
    "cv2.imshow('Green Channel',G)\n",
    "cv2.imshow('Red Channel',R)\n",
    "cv2.waitKey(0)\n",
    "cv2.destroyAllWindows()"
   ]
  },
  {
   "cell_type": "code",
   "execution_count": 9,
   "metadata": {},
   "outputs": [],
   "source": [
    "mergeBGR = cv2.merge([B,G,R])\n",
    "mergeRGB = cv2.merge([R,G,B])\n",
    "cv2.imshow('Input',input)\n",
    "cv2.imshow('Merged- BGR',mergeBGR)\n",
    "cv2.imshow('Merged- RGB',mergeRGB)\n",
    "cv2.waitKey(0)\n",
    "cv2.destroyAllWindows()"
   ]
  },
  {
   "cell_type": "code",
   "execution_count": 11,
   "metadata": {},
   "outputs": [],
   "source": [
    "# Amplifying Blue by 100 each pixel\n",
    "mergeBGR = cv2.merge([B+100,G,R])\n",
    "cv2.imshow('Input',input)\n",
    "cv2.imshow('Merged- BGR_Amplifying',mergeBGR)\n",
    "cv2.waitKey(0)\n",
    "cv2.destroyAllWindows()"
   ]
  },
  {
   "cell_type": "code",
   "execution_count": 12,
   "metadata": {},
   "outputs": [],
   "source": [
    "from matplotlib import pyplot as plot"
   ]
  },
  {
   "cell_type": "code",
   "execution_count": 13,
   "metadata": {},
   "outputs": [
    {
     "data": {
      "image/png": "[encoded data removed]",
      "text/plain": [
       "<Figure size 432x288 with 1 Axes>"
      ]
     },
     "metadata": {
      "needs_background": "light"
     },
     "output_type": "display_data"
    }
   ],
   "source": [
    "hist = cv2.calcHist([input], [0], None, [256], [0, 256])\n",
    "plot.hist(input.ravel(), 256,[0,256])\n",
    "plot.show()"
   ]
  },
  {
   "cell_type": "code",
   "execution_count": 14,
   "metadata": {},
   "outputs": [
    {
     "data": {
      "image/png": "[encoded data removed]",
      "text/plain": [
       "<Figure size 432x288 with 1 Axes>"
      ]
     },
     "metadata": {
      "needs_background": "light"
     },
     "output_type": "display_data"
    }
   ],
   "source": [
    "color = ('b','g','r')\n",
    "for i, col in enumerate(color):\n",
    "    hist = cv2.calcHist([input], [i], None, [256], [0,256])\n",
    "    plot.plot(hist,color=col)\n",
    "    plot.xlim([0,256])\n",
    "plot.show()"
   ]
  },
  {
   "cell_type": "code",
   "execution_count": null,
   "metadata": {},
   "outputs": [],
   "source": [
    "#calcHist(img,channel,mask,histSize,ranges[,hist[,accumulate]])"
   ]
  }
 ],
 "metadata": {
  "kernelspec": {
   "display_name": "Python 3",
   "language": "python",
   "name": "python3"
  },
  "language_info": {
   "codemirror_mode": {
    "name": "ipython",
    "version": 3
   },
   "file_extension": ".py",
   "mimetype": "text/x-python",
   "name": "python",
   "nbconvert_exporter": "python",
   "pygments_lexer": "ipython3",
   "version": "3.7.6"
  }
 },
 "nbformat": 4,
 "nbformat_minor": 4
}
