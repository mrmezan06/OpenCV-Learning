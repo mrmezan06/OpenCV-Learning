{
 "cells": [
  {
   "cell_type": "code",
   "execution_count": 1,
   "metadata": {},
   "outputs": [],
   "source": [
    "import cv2\n",
    "import numpy as np"
   ]
  },
  {
   "cell_type": "code",
   "execution_count": 2,
   "metadata": {},
   "outputs": [],
   "source": [
    "square = np.zeros((300,300),np.uint8)\n",
    "cv2.rectangle(square, (50,50), (250,250), 255, -2)\n",
    "cv2.imshow('square image',square)\n",
    "cv2.waitKey(0)\n",
    "cv2.destroyAllWindows()"
   ]
  },
  {
   "cell_type": "code",
   "execution_count": 3,
   "metadata": {},
   "outputs": [],
   "source": [
    "ellipse = np.zeros((300,300),np.uint8)\n",
    "cv2.ellipse(ellipse, (150,150), (150,150), 30,0,180,255, -1)\n",
    "cv2.imshow('Ellipse image',ellipse)\n",
    "cv2.waitKey(0)\n",
    "cv2.destroyAllWindows()"
   ]
  },
  {
   "cell_type": "code",
   "execution_count": 4,
   "metadata": {},
   "outputs": [
    {
     "data": {
      "text/plain": [
       "'cv2.bitwise_and cv2.bitwise_not cv2.bitwise_or cv2.bitwise_xor'"
      ]
     },
     "execution_count": 4,
     "metadata": {},
     "output_type": "execute_result"
    }
   ],
   "source": [
    "\"\"\"cv2.bitwise_and cv2.bitwise_not cv2.bitwise_or cv2.bitwise_xor\"\"\""
   ]
  },
  {
   "cell_type": "code",
   "execution_count": 5,
   "metadata": {},
   "outputs": [],
   "source": [
    "And = cv2.bitwise_and(square,ellipse)\n",
    "Or = cv2.bitwise_or(square,ellipse)\n",
    "Xor = cv2.bitwise_xor(square,ellipse)\n",
    "Not = cv2.bitwise_not(square)\n",
    "\n",
    "cv2.imshow('And OP',And)\n",
    "cv2.imshow('Or OP',Or)\n",
    "cv2.imshow('Xor OP',Xor)\n",
    "cv2.imshow('Not OP',Not)\n",
    "cv2.waitKey(0)\n",
    "cv2.destroyAllWindows()"
   ]
  }
 ],
 "metadata": {
  "kernelspec": {
   "display_name": "Python 3",
   "language": "python",
   "name": "python3"
  },
  "language_info": {
   "codemirror_mode": {
    "name": "ipython",
    "version": 3
   },
   "file_extension": ".py",
   "mimetype": "text/x-python",
   "name": "python",
   "nbconvert_exporter": "python",
   "pygments_lexer": "ipython3",
   "version": "3.7.6"
  }
 },
 "nbformat": 4,
 "nbformat_minor": 4
}
