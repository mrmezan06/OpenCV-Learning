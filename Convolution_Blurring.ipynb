{
 "cells": [
  {
   "cell_type": "code",
   "execution_count": 1,
   "metadata": {},
   "outputs": [],
   "source": [
    "import cv2\n",
    "import numpy as np\n",
    "\n",
    "img = cv2.imread('akash.jpg')"
   ]
  },
  {
   "cell_type": "code",
   "execution_count": 2,
   "metadata": {},
   "outputs": [],
   "source": [
    "kernel_3x3 =  np.ones((3,3),np.float32)/9\n",
    "blurred = cv2.filter2D(img, -1, kernel_3x3)\n",
    "\n",
    "kernel_7x7 =  np.ones((7,7),np.float32)/49\n",
    "blurred2 = cv2.filter2D(img, -1, kernel_7x7)\n",
    "\n",
    "cv2.imshow('original',img)\n",
    "cv2.imshow('3x3 kernel',blurred)\n",
    "cv2.imshow('7x7 kernel',blurred2)\n",
    "cv2.waitKey(0)\n",
    "cv2.destroyAllWindows()"
   ]
  },
  {
   "cell_type": "code",
   "execution_count": 4,
   "metadata": {},
   "outputs": [],
   "source": [
    "# other blurring methods\n",
    "# blur func it is basically a box filter\n",
    "blur = cv2.blur(img, (3,3))\n",
    "cv2.imshow('original',img)\n",
    "cv2.imshow('blur',blur)\n",
    "cv2.waitKey(0)\n",
    "cv2.destroyAllWindows()"
   ]
  },
  {
   "cell_type": "code",
   "execution_count": 8,
   "metadata": {},
   "outputs": [],
   "source": [
    "# GaussianBlur func is also box filter but using gaussian kernel\n",
    "blur2 = cv2.GaussianBlur(img, (7,7), 0)\n",
    "cv2.imshow('original',img)\n",
    "cv2.imshow('Gaussian',blur2)\n",
    "cv2.waitKey(0)\n",
    "cv2.destroyAllWindows()"
   ]
  },
  {
   "cell_type": "code",
   "execution_count": 9,
   "metadata": {},
   "outputs": [],
   "source": [
    "# medianBlur func\n",
    "# 5 is median value\n",
    "blur3 = cv2.medianBlur(img, 5)\n",
    "cv2.imshow('original',img)\n",
    "cv2.imshow('Median',blur3)\n",
    "cv2.waitKey(0)\n",
    "cv2.destroyAllWindows()"
   ]
  },
  {
   "cell_type": "code",
   "execution_count": 10,
   "metadata": {},
   "outputs": [],
   "source": [
    "#Bilateral is very effective in noise removal while keeping edges sharp\n",
    "# anti-aliasing type filter\n",
    "blur4 = cv2.bilateralFilter(img,9,75,75)\n",
    "cv2.imshow('original',img)\n",
    "cv2.imshow('Bilateral',blur4)\n",
    "cv2.waitKey(0)\n",
    "cv2.destroyAllWindows()"
   ]
  },
  {
   "cell_type": "code",
   "execution_count": 11,
   "metadata": {},
   "outputs": [],
   "source": [
    "# Image De-noising - Non Local means Denoising\n",
    "# it have four variation\n",
    "# parameter after None are -  the filter strength 'h' (5-10 is a good range)\n",
    "dst = cv2.fastNlMeansDenoisingColored(img, None, 6,6,7,21)\n",
    "cv2.imshow('original',img)\n",
    "cv2.imshow('Denoising',dst)\n",
    "cv2.waitKey(0)\n",
    "cv2.destroyAllWindows()"
   ]
  },
  {
   "cell_type": "code",
   "execution_count": null,
   "metadata": {},
   "outputs": [],
   "source": []
  }
 ],
 "metadata": {
  "kernelspec": {
   "display_name": "Python 3",
   "language": "python",
   "name": "python3"
  },
  "language_info": {
   "codemirror_mode": {
    "name": "ipython",
    "version": 3
   },
   "file_extension": ".py",
   "mimetype": "text/x-python",
   "name": "python",
   "nbconvert_exporter": "python",
   "pygments_lexer": "ipython3",
   "version": "3.7.6"
  }
 },
 "nbformat": 4,
 "nbformat_minor": 4
}
