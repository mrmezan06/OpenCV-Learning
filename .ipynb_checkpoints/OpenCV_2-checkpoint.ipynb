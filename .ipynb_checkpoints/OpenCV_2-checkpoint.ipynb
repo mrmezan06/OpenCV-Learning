{
 "cells": [
  {
   "cell_type": "code",
   "execution_count": 1,
   "metadata": {},
   "outputs": [],
   "source": [
    "import cv2\n",
    "import numpy as np"
   ]
  },
  {
   "cell_type": "code",
   "execution_count": 2,
   "metadata": {},
   "outputs": [],
   "source": [
    "input = cv2.imread('akash.jpg')\n",
    "gray = cv2.cvtColor(input, cv2.COLOR_BGR2GRAY)"
   ]
  },
  {
   "cell_type": "code",
   "execution_count": 3,
   "metadata": {},
   "outputs": [
    {
     "name": "stdout",
     "output_type": "stream",
     "text": [
      "[[[228 222 203]\n",
      "  [228 222 203]\n",
      "  [228 222 203]\n",
      "  ...\n",
      "  [233 226 209]\n",
      "  [233 226 209]\n",
      "  [233 226 209]]\n",
      "\n",
      " [[228 222 203]\n",
      "  [228 222 203]\n",
      "  [228 222 203]\n",
      "  ...\n",
      "  [233 226 209]\n",
      "  [233 226 209]\n",
      "  [233 226 209]]\n",
      "\n",
      " [[228 222 203]\n",
      "  [228 222 203]\n",
      "  [228 222 203]\n",
      "  ...\n",
      "  [233 226 209]\n",
      "  [233 226 209]\n",
      "  [233 226 209]]\n",
      "\n",
      " ...\n",
      "\n",
      " [[ 88 124 130]\n",
      "  [101 137 143]\n",
      "  [113 149 155]\n",
      "  ...\n",
      "  [ 76 108 107]\n",
      "  [ 80 112 111]\n",
      "  [ 82 114 113]]\n",
      "\n",
      " [[105 141 147]\n",
      "  [105 141 147]\n",
      "  [111 147 153]\n",
      "  ...\n",
      "  [ 76 108 107]\n",
      "  [ 83 115 114]\n",
      "  [ 87 119 118]]\n",
      "\n",
      " [[122 158 164]\n",
      "  [113 149 155]\n",
      "  [117 153 159]\n",
      "  ...\n",
      "  [ 77 109 108]\n",
      "  [ 85 117 116]\n",
      "  [ 90 122 121]]]\n"
     ]
    }
   ],
   "source": [
    "print(input)"
   ]
  },
  {
   "cell_type": "code",
   "execution_count": 4,
   "metadata": {},
   "outputs": [
    {
     "name": "stdout",
     "output_type": "stream",
     "text": [
      "[[217 217 217 ... 222 222 222]\n",
      " [217 217 217 ... 222 222 222]\n",
      " [217 217 217 ... 222 222 222]\n",
      " ...\n",
      " [122 135 147 ... 104 108 110]\n",
      " [139 139 145 ... 104 111 115]\n",
      " [156 147 151 ... 105 113 118]]\n"
     ]
    }
   ],
   "source": [
    "print(gray)"
   ]
  },
  {
   "cell_type": "code",
   "execution_count": 5,
   "metadata": {},
   "outputs": [],
   "source": [
    "cv2.imshow('RGB',input)\n",
    "#opencv store color as BGR format\n",
    "cv2.imshow('Gray', gray)\n",
    "cv2.waitKey(0)\n",
    "cv2.destroyAllWindows()"
   ]
  },
  {
   "cell_type": "code",
   "execution_count": 6,
   "metadata": {},
   "outputs": [],
   "source": [
    "# HSV format value - Hue -> (0-179) Saturation -> (0-255) Brightness/Intensity/Value -> (0-255)"
   ]
  },
  {
   "cell_type": "code",
   "execution_count": null,
   "metadata": {},
   "outputs": [],
   "source": []
  }
 ],
 "metadata": {
  "kernelspec": {
   "display_name": "Python 3",
   "language": "python",
   "name": "python3"
  },
  "language_info": {
   "codemirror_mode": {
    "name": "ipython",
    "version": 3
   },
   "file_extension": ".py",
   "mimetype": "text/x-python",
   "name": "python",
   "nbconvert_exporter": "python",
   "pygments_lexer": "ipython3",
   "version": "3.7.6"
  }
 },
 "nbformat": 4,
 "nbformat_minor": 4
}
