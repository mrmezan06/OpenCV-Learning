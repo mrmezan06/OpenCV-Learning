{
 "cells": [
  {
   "cell_type": "code",
   "execution_count": 1,
   "metadata": {},
   "outputs": [],
   "source": [
    "import cv2\n",
    "import numpy as np"
   ]
  },
  {
   "cell_type": "code",
   "execution_count": 2,
   "metadata": {},
   "outputs": [
    {
     "data": {
      "text/plain": [
       "'cv2.THRESH_BINARY --> Most common\\ncv2.THRESH_BINARY_INV --> Most common\\ncv2.THRESH_TRUNC\\ncv2.THRESH_TOZERO\\ncv2.THRESH_TOZERO_INV'"
      ]
     },
     "execution_count": 2,
     "metadata": {},
     "output_type": "execute_result"
    }
   ],
   "source": [
    "\"\"\"cv2.THRESH_BINARY --> Most common\n",
    "cv2.THRESH_BINARY_INV --> Most common\n",
    "cv2.THRESH_TRUNC\n",
    "cv2.THRESH_TOZERO\n",
    "cv2.THRESH_TOZERO_INV\"\"\""
   ]
  },
  {
   "cell_type": "code",
   "execution_count": 3,
   "metadata": {},
   "outputs": [],
   "source": [
    "img = cv2.imread('img/gradient.jpg', 0)"
   ]
  },
  {
   "cell_type": "code",
   "execution_count": 4,
   "metadata": {},
   "outputs": [],
   "source": [
    "ret,th1 = cv2.threshold(img, 127, 255, cv2.THRESH_BINARY)\n",
    "ret,th2 = cv2.threshold(img,127,255,cv2.THRESH_BINARY_INV)\n",
    "ret,th3 = cv2.threshold(img,127,255,cv2.THRESH_TRUNC)\n",
    "ret,th4 = cv2.threshold(img,127,255,cv2.THRESH_TOZERO)\n",
    "ret,th5 = cv2.threshold(img,127,255,cv2.THRESH_TOZERO_INV)\n"
   ]
  },
  {
   "cell_type": "code",
   "execution_count": 5,
   "metadata": {},
   "outputs": [],
   "source": [
    "cv2.imshow('original',img)\n",
    "cv2.imshow('THRESH_BINARY',th1)\n",
    "cv2.imshow('THRESH_BINARY_INV',th2)\n",
    "cv2.imshow('THRESH_TRUNC',th3)\n",
    "cv2.imshow('THRESH_TOZERO',th4)\n",
    "cv2.imshow('THRESH_TOZERO_INV',th5)\n",
    "cv2.waitKey(0)\n",
    "cv2.destroyAllWindows()\n"
   ]
  },
  {
   "cell_type": "code",
   "execution_count": 6,
   "metadata": {},
   "outputs": [],
   "source": [
    "#Adaptive thresholding\n",
    "img = cv2.imread('img/Origin_of_Species.jpg', 0)\n"
   ]
  },
  {
   "cell_type": "code",
   "execution_count": 8,
   "metadata": {},
   "outputs": [],
   "source": [
    "ret,th1 = cv2.threshold(img,127,255,cv2.THRESH_BINARY)\n",
    "i_g = cv2.GaussianBlur(img,(3,3),0)\n",
    "#block_size=3 needs to be odd and then constant=5\n",
    "ath = cv2.adaptiveThreshold(i_g,255,cv2.ADAPTIVE_THRESH_MEAN_C,cv2.THRESH_BINARY,3,5)\n",
    "_,th2 = cv2.threshold(i_g,0,255,cv2.THRESH_BINARY+cv2.THRESH_OTSU)\n",
    "\n",
    "cv2.imshow('original',img)\n",
    "cv2.imshow('binary',th1)\n",
    "cv2.imshow('adaptive th',ath)\n",
    "cv2.imshow('binary + otsu',th2)\n",
    "\n",
    "cv2.waitKey(0)\n",
    "cv2.destroyAllWindows()"
   ]
  },
  {
   "cell_type": "code",
   "execution_count": 9,
   "metadata": {},
   "outputs": [],
   "source": [
    "#OTSU thresholding after Gaussian filtering\n",
    "blur = cv2.GaussianBlur(img,(5,5),0)\n",
    "_,th3 = cv2.threshold(blur,0,255,cv2.THRESH_BINARY+cv2.THRESH_OTSU)\n",
    "cv2.imshow('original',img)\n",
    "cv2.imshow('OTSU after Gaussian filtering',th3)\n",
    "\n",
    "cv2.waitKey(0)\n",
    "cv2.destroyAllWindows()"
   ]
  },
  {
   "cell_type": "code",
   "execution_count": null,
   "metadata": {},
   "outputs": [],
   "source": []
  }
 ],
 "metadata": {
  "kernelspec": {
   "display_name": "Python 3",
   "language": "python",
   "name": "python3"
  },
  "language_info": {
   "codemirror_mode": {
    "name": "ipython",
    "version": 3
   },
   "file_extension": ".py",
   "mimetype": "text/x-python",
   "name": "python",
   "nbconvert_exporter": "python",
   "pygments_lexer": "ipython3",
   "version": "3.7.6"
  }
 },
 "nbformat": 4,
 "nbformat_minor": 4
}
