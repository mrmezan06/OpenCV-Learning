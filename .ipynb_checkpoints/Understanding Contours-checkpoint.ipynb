{
 "cells": [
  {
   "cell_type": "code",
   "execution_count": 1,
   "metadata": {},
   "outputs": [],
   "source": [
    "import cv2\n",
    "import numpy as np"
   ]
  },
  {
   "cell_type": "code",
   "execution_count": 9,
   "metadata": {},
   "outputs": [],
   "source": [
    "img = cv2.imread('img/shapes.jpg')\n",
    "#img = cv2.imread('akash.jpg')\n",
    "cv2.imshow('original',img)\n",
    "cv2.waitKey(0)\n",
    "cv2.destroyAllWindows()"
   ]
  },
  {
   "cell_type": "code",
   "execution_count": 10,
   "metadata": {},
   "outputs": [],
   "source": [
    "gray = cv2.cvtColor(img,cv2.COLOR_BGR2GRAY)"
   ]
  },
  {
   "cell_type": "code",
   "execution_count": 11,
   "metadata": {},
   "outputs": [],
   "source": [
    "edge = cv2.Canny(gray, 30, 200)"
   ]
  },
  {
   "cell_type": "code",
   "execution_count": 12,
   "metadata": {},
   "outputs": [],
   "source": [
    "contours,hierarchy = cv2.findContours(edge, cv2.RETR_EXTERNAL,cv2.CHAIN_APPROX_NONE)"
   ]
  },
  {
   "cell_type": "code",
   "execution_count": 13,
   "metadata": {},
   "outputs": [
    {
     "data": {
      "text/plain": [
       "array([[[228, 222, 203],\n",
       "        [228, 222, 203],\n",
       "        [228, 222, 203],\n",
       "        ...,\n",
       "        [233, 226, 209],\n",
       "        [233, 226, 209],\n",
       "        [233, 226, 209]],\n",
       "\n",
       "       [[228, 222, 203],\n",
       "        [228, 222, 203],\n",
       "        [228, 222, 203],\n",
       "        ...,\n",
       "        [233, 226, 209],\n",
       "        [233, 226, 209],\n",
       "        [233, 226, 209]],\n",
       "\n",
       "       [[228, 222, 203],\n",
       "        [228, 222, 203],\n",
       "        [228, 222, 203],\n",
       "        ...,\n",
       "        [233, 226, 209],\n",
       "        [233, 226, 209],\n",
       "        [233, 226, 209]],\n",
       "\n",
       "       ...,\n",
       "\n",
       "       [[ 88, 124, 130],\n",
       "        [101, 137, 143],\n",
       "        [113, 149, 155],\n",
       "        ...,\n",
       "        [ 76, 108, 107],\n",
       "        [ 80, 112, 111],\n",
       "        [ 82, 114, 113]],\n",
       "\n",
       "       [[105, 141, 147],\n",
       "        [105, 141, 147],\n",
       "        [111, 147, 153],\n",
       "        ...,\n",
       "        [ 76, 108, 107],\n",
       "        [ 83, 115, 114],\n",
       "        [ 87, 119, 118]],\n",
       "\n",
       "       [[122, 158, 164],\n",
       "        [113, 149, 155],\n",
       "        [117, 153, 159],\n",
       "        ...,\n",
       "        [ 77, 109, 108],\n",
       "        [ 85, 117, 116],\n",
       "        [ 90, 122, 121]]], dtype=uint8)"
      ]
     },
     "execution_count": 13,
     "metadata": {},
     "output_type": "execute_result"
    }
   ],
   "source": [
    "# -1 mean all contours 1 --> first contour 2 --> 2nd contour\n",
    "cv2.drawContours(img, contours, -1, (0,255,0), 3)"
   ]
  },
  {
   "cell_type": "code",
   "execution_count": 14,
   "metadata": {},
   "outputs": [
    {
     "name": "stdout",
     "output_type": "stream",
     "text": [
      "Number of contours: 709\n"
     ]
    }
   ],
   "source": [
    "print('Number of contours:',str(len(contours)))\n",
    "\n",
    "cv2.imshow('Contours', img)\n",
    "cv2.imshow('canny edge', edge)\n",
    "cv2.imshow('gray', gray)\n",
    "cv2.waitKey(0)\n",
    "cv2.destroyAllWindows()"
   ]
  },
  {
   "cell_type": "code",
   "execution_count": null,
   "metadata": {},
   "outputs": [],
   "source": []
  }
 ],
 "metadata": {
  "kernelspec": {
   "display_name": "Python 3",
   "language": "python",
   "name": "python3"
  },
  "language_info": {
   "codemirror_mode": {
    "name": "ipython",
    "version": 3
   },
   "file_extension": ".py",
   "mimetype": "text/x-python",
   "name": "python",
   "nbconvert_exporter": "python",
   "pygments_lexer": "ipython3",
   "version": "3.7.6"
  }
 },
 "nbformat": 4,
 "nbformat_minor": 4
}
