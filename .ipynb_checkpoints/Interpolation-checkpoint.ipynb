{
 "cells": [
  {
   "cell_type": "code",
   "execution_count": 1,
   "metadata": {},
   "outputs": [],
   "source": [
    "import cv2\n",
    "import numpy as np\n",
    "img = cv2.imread('akash.jpg')"
   ]
  },
  {
   "cell_type": "code",
   "execution_count": 2,
   "metadata": {},
   "outputs": [
    {
     "data": {
      "text/plain": [
       "'\\ncv2.INTER_AREA --> Good for shrinking or down sampling\\ncv2.INTER_NEAREST --> Fastest\\ncv2.INTER_LINEAR --> Good for zooming or up sampling(default)\\ncv2.INTER_CUBIC --> Better\\ncv2.INTER_LANCZOS4 --> Best\\n\\n'"
      ]
     },
     "execution_count": 2,
     "metadata": {},
     "output_type": "execute_result"
    }
   ],
   "source": [
    "\"\"\"\n",
    "cv2.INTER_AREA --> Good for shrinking or down sampling\n",
    "cv2.INTER_NEAREST --> Fastest\n",
    "cv2.INTER_LINEAR --> Good for zooming or up sampling(default)\n",
    "cv2.INTER_CUBIC --> Better\n",
    "cv2.INTER_LANCZOS4 --> Best\n",
    "\n",
    "\"\"\""
   ]
  },
  {
   "cell_type": "code",
   "execution_count": 4,
   "metadata": {},
   "outputs": [],
   "source": [
    "\"\"\"\n",
    "cv2.resize(img,dsize(output_img_size),x_scale,y_scale,interpolation)\n",
    "default interploation Linear\n",
    "\"\"\"\n",
    "\n",
    "img_scaled = cv2.resize(img, None, fx=0.75,fy=0.75)\n",
    "cv2.imshow('Linear Interpolation',img_scaled)\n",
    "\n",
    "img_scaled2 = cv2.resize(img, None, fx=2,fy=2, interpolation= cv2.INTER_CUBIC)\n",
    "cv2.imshow('Cubic Interpolation',img_scaled2)\n",
    "\n",
    "img_scaled3 = cv2.resize(img, (900,400), interpolation= cv2.INTER_AREA)\n",
    "cv2.imshow('Skewed Interpolation',img_scaled3)\n",
    "\n",
    "cv2.waitKey(0)\n",
    "cv2.destroyAllWindows()"
   ]
  },
  {
   "cell_type": "code",
   "execution_count": null,
   "metadata": {},
   "outputs": [],
   "source": []
  }
 ],
 "metadata": {
  "kernelspec": {
   "display_name": "Python 3",
   "language": "python",
   "name": "python3"
  },
  "language_info": {
   "codemirror_mode": {
    "name": "ipython",
    "version": 3
   },
   "file_extension": ".py",
   "mimetype": "text/x-python",
   "name": "python",
   "nbconvert_exporter": "python",
   "pygments_lexer": "ipython3",
   "version": "3.7.6"
  }
 },
 "nbformat": 4,
 "nbformat_minor": 4
}
