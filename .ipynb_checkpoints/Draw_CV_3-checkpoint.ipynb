{
 "cells": [
  {
   "cell_type": "code",
   "execution_count": 1,
   "metadata": {},
   "outputs": [],
   "source": [
    "import cv2\n",
    "import numpy as np"
   ]
  },
  {
   "cell_type": "code",
   "execution_count": 2,
   "metadata": {},
   "outputs": [],
   "source": [
    "# Black Image\n",
    "image = np.zeros((512,512,3), np.uint8)\n",
    "# Black and white\n",
    "imgBW = np.zeros((512,512), np.uint8)\n",
    "\n",
    "cv2.imshow('black', image)\n",
    "cv2.imshow('BW',imgBW)\n",
    "cv2.waitKey(0)\n",
    "cv2.destroyAllWindows()\n"
   ]
  },
  {
   "cell_type": "code",
   "execution_count": 11,
   "metadata": {},
   "outputs": [],
   "source": [
    "#draw line\n",
    "image = np.zeros((512,512,3), np.uint8)\n",
    "cv2.line(image, (0,0), (511,511), (0,0,255), 5)\n",
    "cv2.line(image, (511,0), (0,511), (0,255,0), 5)\n",
    "cv2.line(image, (255,0), (255,511), (255,0,0), 5)\n",
    "cv2.line(image, (0,255), (511,255), (255,255,255), 5)\n",
    "cv2.imshow('Blue Line',image)\n",
    "cv2.waitKey(0)\n",
    "cv2.destroyAllWindows()"
   ]
  },
  {
   "cell_type": "code",
   "execution_count": 18,
   "metadata": {},
   "outputs": [],
   "source": [
    "#draw rectangle weight parameter = -1 means fill the rect\n",
    "image = np.zeros((512,512,3), np.uint8)\n",
    "cv2.rectangle(image, (200,312), (312,200), (0,0,255), 5)\n",
    "#cv2.rectangle(image, (200,312), (312,200), (0,0,255), -1)\n",
    "cv2.imshow('Rect',image)\n",
    "cv2.waitKey(0)\n",
    "cv2.destroyAllWindows()\n"
   ]
  },
  {
   "cell_type": "code",
   "execution_count": 21,
   "metadata": {},
   "outputs": [],
   "source": [
    "#draw circle\n",
    "image = np.zeros((512,512,3), np.uint8)\n",
    "cv2.circle(image, (256,256), 100, (0,0,255), -1)\n",
    "cv2.imshow('Circle',image)\n",
    "cv2.waitKey(0)\n",
    "cv2.destroyAllWindows()\n"
   ]
  },
  {
   "cell_type": "code",
   "execution_count": 29,
   "metadata": {},
   "outputs": [],
   "source": [
    "#draw polygon\n",
    "image = np.zeros((512,512,3), np.uint8)\n",
    "pts = [[10,50],[400,50],[90,200],[50,500]]\n",
    "pts = np.asarray(pts)\n",
    "#pts = pts.reshape((-1,-1,2))\n",
    "cv2.polylines(image,[pts],True,(0,0,255),3)\n",
    "cv2.imshow('Polygons',image)\n",
    "cv2.waitKey(0)\n",
    "cv2.destroyAllWindows()"
   ]
  },
  {
   "cell_type": "code",
   "execution_count": null,
   "metadata": {},
   "outputs": [],
   "source": []
  }
 ],
 "metadata": {
  "kernelspec": {
   "display_name": "Python 3",
   "language": "python",
   "name": "python3"
  },
  "language_info": {
   "codemirror_mode": {
    "name": "ipython",
    "version": 3
   },
   "file_extension": ".py",
   "mimetype": "text/x-python",
   "name": "python",
   "nbconvert_exporter": "python",
   "pygments_lexer": "ipython3",
   "version": "3.7.6"
  }
 },
 "nbformat": 4,
 "nbformat_minor": 4
}
