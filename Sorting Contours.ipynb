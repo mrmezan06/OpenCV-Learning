{
 "cells": [
  {
   "cell_type": "code",
   "execution_count": 7,
   "metadata": {},
   "outputs": [],
   "source": [
    "import cv2\n",
    "import numpy as np\n",
    "img = cv2.imread('img/bunchofshapes.jpg')\n",
    "cv2.imshow('Orginal',img)\n",
    "cv2.waitKey(0)\n",
    "cv2.destroyAllWindows()"
   ]
  },
  {
   "cell_type": "code",
   "execution_count": 2,
   "metadata": {},
   "outputs": [],
   "source": [
    "blank_img = np.zeros((img.shape[0],img.shape[1],3))"
   ]
  },
  {
   "cell_type": "code",
   "execution_count": 3,
   "metadata": {},
   "outputs": [],
   "source": [
    "org_img = img"
   ]
  },
  {
   "cell_type": "code",
   "execution_count": 4,
   "metadata": {},
   "outputs": [],
   "source": [
    "gray = cv2.cvtColor(img,cv2.COLOR_BGR2GRAY)"
   ]
  },
  {
   "cell_type": "code",
   "execution_count": 5,
   "metadata": {},
   "outputs": [],
   "source": [
    "edge = cv2.Canny(gray,50,200)"
   ]
  },
  {
   "cell_type": "code",
   "execution_count": 6,
   "metadata": {},
   "outputs": [],
   "source": [
    "cv2.imshow('Canny edge',edge)\n",
    "cv2.waitKey(0)\n",
    "cv2.destroyAllWindows()"
   ]
  },
  {
   "cell_type": "code",
   "execution_count": 9,
   "metadata": {},
   "outputs": [
    {
     "name": "stdout",
     "output_type": "stream",
     "text": [
      "Number of contours: 4\n"
     ]
    }
   ],
   "source": [
    "contours,hierarchy = cv2.findContours(edge.copy(),cv2.RETR_EXTERNAL,cv2.CHAIN_APPROX_NONE)\n",
    "print('Number of contours:',len(contours))"
   ]
  },
  {
   "cell_type": "code",
   "execution_count": 10,
   "metadata": {},
   "outputs": [],
   "source": [
    "cv2.drawContours(img,contours,-1,(0,255,0),3)\n",
    "cv2.imshow('Found Contours',img)\n",
    "cv2.waitKey(0)\n",
    "cv2.destroyAllWindows()"
   ]
  },
  {
   "cell_type": "code",
   "execution_count": 11,
   "metadata": {},
   "outputs": [],
   "source": [
    "#Sorting Contours Area\n",
    "def get_contours_area(contours):\n",
    "    all_areas = []\n",
    "    for cnt in contours:\n",
    "        area = cv2.contourArea(cnt)\n",
    "        all_areas.append(area)\n",
    "    return all_areas\n"
   ]
  },
  {
   "cell_type": "code",
   "execution_count": 12,
   "metadata": {},
   "outputs": [
    {
     "name": "stdout",
     "output_type": "stream",
     "text": [
      "[20587.5, 22901.5, 66579.5, 90222.0]\n"
     ]
    }
   ],
   "source": [
    "print(get_contours_area(contours))"
   ]
  },
  {
   "cell_type": "code",
   "execution_count": 13,
   "metadata": {},
   "outputs": [],
   "source": [
    "sorted_contours = sorted(contours, key=cv2.contourArea, reverse=True)"
   ]
  },
  {
   "cell_type": "code",
   "execution_count": 14,
   "metadata": {},
   "outputs": [
    {
     "name": "stdout",
     "output_type": "stream",
     "text": [
      "[array([[[135, 245]],\n",
      "\n",
      "       [[135, 246]],\n",
      "\n",
      "       [[134, 247]],\n",
      "\n",
      "       ...,\n",
      "\n",
      "       [[138, 245]],\n",
      "\n",
      "       [[137, 245]],\n",
      "\n",
      "       [[136, 245]]], dtype=int32), array([[[1262,  258]],\n",
      "\n",
      "       [[1261,  259]],\n",
      "\n",
      "       [[1260,  259]],\n",
      "\n",
      "       ...,\n",
      "\n",
      "       [[1265,  258]],\n",
      "\n",
      "       [[1264,  258]],\n",
      "\n",
      "       [[1263,  258]]], dtype=int32), array([[[596, 345]],\n",
      "\n",
      "       [[596, 346]],\n",
      "\n",
      "       [[595, 347]],\n",
      "\n",
      "       ...,\n",
      "\n",
      "       [[599, 346]],\n",
      "\n",
      "       [[598, 345]],\n",
      "\n",
      "       [[597, 345]]], dtype=int32), array([[[817, 370]],\n",
      "\n",
      "       [[816, 371]],\n",
      "\n",
      "       [[815, 371]],\n",
      "\n",
      "       ...,\n",
      "\n",
      "       [[820, 370]],\n",
      "\n",
      "       [[819, 370]],\n",
      "\n",
      "       [[818, 370]]], dtype=int32)]\n"
     ]
    }
   ],
   "source": [
    "print(sorted_contours)"
   ]
  },
  {
   "cell_type": "code",
   "execution_count": 15,
   "metadata": {},
   "outputs": [
    {
     "name": "stdout",
     "output_type": "stream",
     "text": [
      "[90222.0, 66579.5, 22901.5, 20587.5]\n"
     ]
    }
   ],
   "source": [
    "print(get_contours_area(sorted_contours))"
   ]
  },
  {
   "cell_type": "code",
   "execution_count": 16,
   "metadata": {},
   "outputs": [],
   "source": [
    "for c in sorted_contours:\n",
    "    cv2.drawContours(org_img,[c],-1,(255,0,0),3)\n",
    "    cv2.imshow('Contours by area',org_img)\n",
    "    cv2.waitKey(0)\n",
    "cv2.waitKey(0)\n",
    "cv2.destroyAllWindows()"
   ]
  },
  {
   "cell_type": "code",
   "execution_count": 17,
   "metadata": {},
   "outputs": [],
   "source": [
    "#Labeling\n",
    "def x_cord_contour(contours):\n",
    "    if cv2.contourArea(contours)>10:\n",
    "        M = cv2.moments(contours)\n",
    "        return (int(M['m10']/M['m00']))\n",
    "\n",
    "def label_contour_center(img,c,i):\n",
    "    M = cv2.moments(c)\n",
    "    cx = int(M['m10']/M['m00'])\n",
    "    cy = int(M['m01']/M['m00'])\n",
    "    cv2.circle(img,(cx,cy),10,(0,0,255),-1)\n",
    "    return img\n",
    "\n",
    "img = cv2.imread('img/bunchofshapes.jpg')\n",
    "org_img = img.copy()\n",
    "\n",
    "for (i,c) in enumerate(contours):\n",
    "    org = label_contour_center(img,c,i)\n",
    "\n",
    "cv2.imshow('Contours center',img)\n",
    "cv2.waitKey(0)\n",
    "cv2.destroyAllWindows()"
   ]
  },
  {
   "cell_type": "code",
   "execution_count": 18,
   "metadata": {},
   "outputs": [],
   "source": [
    "contours_left_to_right = sorted(contours, key=x_cord_contour,reverse=False)"
   ]
  },
  {
   "cell_type": "code",
   "execution_count": 20,
   "metadata": {},
   "outputs": [
    {
     "name": "stdout",
     "output_type": "stream",
     "text": [
      "output_shape_number_1.jpg\n",
      "output_shape_number_2.jpg\n",
      "output_shape_number_3.jpg\n",
      "output_shape_number_4.jpg\n"
     ]
    }
   ],
   "source": [
    "for (i,c) in enumerate(contours_left_to_right):\n",
    "    cv2.drawContours(org_img,[c],-1,(0,0,255),3)\n",
    "    M = cv2.moments(c)\n",
    "    cx = int(M['m10']/M['m00'])\n",
    "    cy = int(M['m01']/M['m00'])\n",
    "    cv2.putText(org_img,str(i+1),(cx,cy),cv2.FONT_HERSHEY_SIMPLEX,1,(0,255,0),2)\n",
    "    cv2.imshow('Left to right contour', org_img)\n",
    "    cv2.waitKey(0)\n",
    "    cv2.destroyAllWindows()\n",
    "    (x,y,w,h) = cv2.boundingRect(c)\n",
    "    cropped_contour = org_img [y:y+h,x:x+w]\n",
    "    img_name = \"output_shape_number_\"+str(i+1)+\".jpg\"\n",
    "    print(img_name)\n",
    "    cv2.imwrite(img_name,cropped_contour)\n",
    "    "
   ]
  },
  {
   "cell_type": "code",
   "execution_count": null,
   "metadata": {},
   "outputs": [],
   "source": []
  }
 ],
 "metadata": {
  "kernelspec": {
   "display_name": "Python 3",
   "language": "python",
   "name": "python3"
  },
  "language_info": {
   "codemirror_mode": {
    "name": "ipython",
    "version": 3
   },
   "file_extension": ".py",
   "mimetype": "text/x-python",
   "name": "python",
   "nbconvert_exporter": "python",
   "pygments_lexer": "ipython3",
   "version": "3.7.6"
  }
 },
 "nbformat": 4,
 "nbformat_minor": 4
}
